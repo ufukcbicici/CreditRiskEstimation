{
 "cells": [
  {
   "cell_type": "code",
   "execution_count": 3,
   "metadata": {
    "collapsed": true
   },
   "outputs": [],
   "source": [
    "import numpy as np\n",
    "import pandas as pd\n",
    "import matplotlib.pyplot as plt\n",
    "from sklearn.impute import SimpleImputer\n",
    "import os\n",
    "\n",
    "# Payment table\n",
    "payment_column_names = [\"id\", \"OVD_t1\", \"OVD_t2\", \"OVD_t3\", \"OVD_sum\", \"pay_normal\", \"prod_code\", \"prod_limit\",\n",
    "                        \"update_date\",\n",
    "                        \"new_balance\", \"highest_balance\", \"report_date\"]\n",
    "payment_ignore_columns = {\"prod_limit\", \"report_date\"}\n",
    "payment_columns_types = {\"numerical\": {\"OVD_t1\", \"OVD_t2\", \"OVD_t3\", \"OVD_sum\", \"pay_normal\",\n",
    "                                       \"new_balance\", \"highest_balance\", \"prod_limit\"},\n",
    "                         \"categorical\": {\"prod_code\"},\n",
    "                         \"date\": {\"update_date\", \"report_date\"}}"
   ]
  },
  {
   "cell_type": "code",
   "execution_count": 4,
   "metadata": {},
   "outputs": [
    {
     "name": "stdout",
     "output_type": "stream",
     "text": [
      "X\n"
     ]
    }
   ],
   "source": [
    "print(\"X\")"
   ]
  },
  {
   "cell_type": "code",
   "execution_count": null,
   "metadata": {},
   "outputs": [],
   "source": []
  }
 ],
 "metadata": {
  "kernelspec": {
   "display_name": "Python 2",
   "language": "python",
   "name": "python2"
  },
  "language_info": {
   "codemirror_mode": {
    "name": "ipython",
    "version": 2
   },
   "file_extension": ".py",
   "mimetype": "text/x-python",
   "name": "python",
   "nbconvert_exporter": "python",
   "pygments_lexer": "ipython2",
   "version": "2.7.6"
  }
 },
 "nbformat": 4,
 "nbformat_minor": 0
}
